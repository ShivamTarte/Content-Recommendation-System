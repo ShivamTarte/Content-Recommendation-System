{
 "cells": [
  {
   "cell_type": "code",
   "execution_count": 1,
   "id": "7cde3e1d",
   "metadata": {
    "_cell_guid": "b1076dfc-b9ad-4769-8c92-a6c4dae69d19",
    "_uuid": "8f2839f25d086af736a60e9eeb907d3b93b6e0e5",
    "execution": {
     "iopub.execute_input": "2023-01-30T13:47:05.512847Z",
     "iopub.status.busy": "2023-01-30T13:47:05.512291Z",
     "iopub.status.idle": "2023-01-30T13:47:05.555989Z",
     "shell.execute_reply": "2023-01-30T13:47:05.555020Z"
    },
    "papermill": {
     "duration": 0.054836,
     "end_time": "2023-01-30T13:47:05.559107",
     "exception": false,
     "start_time": "2023-01-30T13:47:05.504271",
     "status": "completed"
    },
    "tags": []
   },
   "outputs": [
    {
     "name": "stdout",
     "output_type": "stream",
     "text": [
      "/kaggle/input/sentencetransformers/model/sentence-transformers/paraphrase-multilingual-mpnet-base-v2/config.json\n",
      "/kaggle/input/sentencetransformers/model/sentence-transformers/paraphrase-multilingual-mpnet-base-v2/pytorch_model.bin\n",
      "/kaggle/input/sentencetransformers/tokenizer/sentence-transformers/paraphrase-multilingual-mpnet-base-v2/tokenizer.json\n",
      "/kaggle/input/sentencetransformers/tokenizer/sentence-transformers/paraphrase-multilingual-mpnet-base-v2/tokenizer_config.json\n",
      "/kaggle/input/sentencetransformers/tokenizer/sentence-transformers/paraphrase-multilingual-mpnet-base-v2/special_tokens_map.json\n",
      "/kaggle/input/sentencetransformers/tokenizer/sentence-transformers/paraphrase-multilingual-mpnet-base-v2/sentencepiece.bpe.model\n",
      "/kaggle/input/learning-equality-curriculum-recommendations/sample_submission.csv\n",
      "/kaggle/input/learning-equality-curriculum-recommendations/topics.csv\n",
      "/kaggle/input/learning-equality-curriculum-recommendations/correlations.csv\n",
      "/kaggle/input/learning-equality-curriculum-recommendations/content.csv\n"
     ]
    }
   ],
   "source": [
    "\n",
    "# This Python 3 environment comes with many helpful analytics libraries installed\n",
    "# It is defined by the kaggle/python Docker image: https://github.com/kaggle/docker-python\n",
    "# For example, here's several helpful packages to load\n",
    "\n",
    "import numpy as np # linear algebra\n",
    "import pandas as pd # data processing, CSV file I/O (e.g. pd.read_csv)\n",
    "\n",
    "# Input data files are available in the read-only \"../input/\" directory\n",
    "# For example, running this (by clicking run or pressing Shift+Enter) will list all files under the input directory\n",
    "\n",
    "import os\n",
    "for dirname, _, filenames in os.walk('/kaggle/input'):\n",
    "    for filename in filenames:\n",
    "        print(os.path.join(dirname, filename))\n",
    "\n",
    "# You can write up to 20GB to the current directory (/kaggle/working/) that gets preserved as output when you create a version using \"Save & Run All\" \n",
    "# You can also write temporary files to /kaggle/temp/, but they won't be saved outside of the current session"
   ]
  },
  {
   "cell_type": "code",
   "execution_count": 2,
   "id": "4456b6d0",
   "metadata": {
    "execution": {
     "iopub.execute_input": "2023-01-30T13:47:05.571600Z",
     "iopub.status.busy": "2023-01-30T13:47:05.571087Z",
     "iopub.status.idle": "2023-01-30T13:47:08.216961Z",
     "shell.execute_reply": "2023-01-30T13:47:08.215971Z"
    },
    "papermill": {
     "duration": 2.654427,
     "end_time": "2023-01-30T13:47:08.219397",
     "exception": false,
     "start_time": "2023-01-30T13:47:05.564970",
     "status": "completed"
    },
    "tags": []
   },
   "outputs": [],
   "source": [
    "import transformers\n",
    "import torch\n",
    "import matplotlib.pyplot as plt\n",
    "import seaborn as sns\n",
    "from tqdm.notebook import tqdm\n",
    "from pathlib import Path\n",
    "from fuzzywuzzy import fuzz, process\n",
    "import math"
   ]
  },
  {
   "cell_type": "code",
   "execution_count": 3,
   "id": "22741c24",
   "metadata": {
    "execution": {
     "iopub.execute_input": "2023-01-30T13:47:08.232266Z",
     "iopub.status.busy": "2023-01-30T13:47:08.231106Z",
     "iopub.status.idle": "2023-01-30T13:47:08.303532Z",
     "shell.execute_reply": "2023-01-30T13:47:08.302627Z"
    },
    "papermill": {
     "duration": 0.080735,
     "end_time": "2023-01-30T13:47:08.305635",
     "exception": false,
     "start_time": "2023-01-30T13:47:08.224900",
     "status": "completed"
    },
    "tags": []
   },
   "outputs": [],
   "source": [
    "class Config():\n",
    "    model = Path('/kaggle/input/sentencetransformers/model/sentence-transformers/paraphrase-multilingual-mpnet-base-v2/')\n",
    "    tokenizer = Path('/kaggle/input/sentencetransformers/tokenizer/sentence-transformers/paraphrase-multilingual-mpnet-base-v2/')\n",
    "    device = torch.device('cuda') if torch.cuda.is_available() else 'cpu'\n",
    "    nearest_content_count=400\n",
    "    "
   ]
  },
  {
   "cell_type": "code",
   "execution_count": 4,
   "id": "9c3beae8",
   "metadata": {
    "execution": {
     "iopub.execute_input": "2023-01-30T13:47:08.318211Z",
     "iopub.status.busy": "2023-01-30T13:47:08.316774Z",
     "iopub.status.idle": "2023-01-30T13:47:28.502304Z",
     "shell.execute_reply": "2023-01-30T13:47:28.501298Z"
    },
    "papermill": {
     "duration": 20.194066,
     "end_time": "2023-01-30T13:47:28.504906",
     "exception": false,
     "start_time": "2023-01-30T13:47:08.310840",
     "status": "completed"
    },
    "tags": []
   },
   "outputs": [],
   "source": [
    "df_topic=pd.read_csv(r\"/kaggle/input/learning-equality-curriculum-recommendations/topics.csv\")\n",
    "df_topic.fillna('')\n",
    "df_correlations=pd.read_csv(r\"/kaggle/input/learning-equality-curriculum-recommendations/correlations.csv\")\n",
    "df_content=pd.read_csv(r\"/kaggle/input/learning-equality-curriculum-recommendations/content.csv\")\n",
    "df_content.fillna('')\n",
    "df_sample=pd.read_csv(r\"/kaggle/input/learning-equality-curriculum-recommendations/sample_submission.csv\")\n",
    "\n"
   ]
  },
  {
   "cell_type": "code",
   "execution_count": 5,
   "id": "0601b71d",
   "metadata": {
    "execution": {
     "iopub.execute_input": "2023-01-30T13:47:28.517384Z",
     "iopub.status.busy": "2023-01-30T13:47:28.517060Z",
     "iopub.status.idle": "2023-01-30T13:47:28.541648Z",
     "shell.execute_reply": "2023-01-30T13:47:28.540759Z"
    },
    "papermill": {
     "duration": 0.033313,
     "end_time": "2023-01-30T13:47:28.543814",
     "exception": false,
     "start_time": "2023-01-30T13:47:28.510501",
     "status": "completed"
    },
    "tags": []
   },
   "outputs": [],
   "source": [
    "df_topic=df_topic.set_index(\"id\")"
   ]
  },
  {
   "cell_type": "code",
   "execution_count": 6,
   "id": "d89398e1",
   "metadata": {
    "execution": {
     "iopub.execute_input": "2023-01-30T13:47:28.555348Z",
     "iopub.status.busy": "2023-01-30T13:47:28.555065Z",
     "iopub.status.idle": "2023-01-30T13:47:28.560390Z",
     "shell.execute_reply": "2023-01-30T13:47:28.559466Z"
    },
    "papermill": {
     "duration": 0.01341,
     "end_time": "2023-01-30T13:47:28.562368",
     "exception": false,
     "start_time": "2023-01-30T13:47:28.548958",
     "status": "completed"
    },
    "tags": []
   },
   "outputs": [],
   "source": [
    "################\n",
    "def tree(ids,lst):\n",
    "#     if(df_topic.at[ids,\"lst_parent\"]!=\"NULL\"):\n",
    "#         lst=df_topic.at[ids,\"title\"]\n",
    "#         return lst\n",
    "    \n",
    "    if((ids in df_topic.index)==False):\n",
    "        \n",
    "        return lst\n",
    "    \n",
    "    lst=tree(df_topic.at[ids,\"parent\"],lst)\n",
    "    df_topic.at[ids,\"lst_parent\"]=lst\n",
    "    lst.append(df_topic.at[ids,\"title\"])\n",
    "    return lst\n",
    "    \n",
    "    \n",
    "#     (df_topic[index]==ids).any()==False\n",
    "    "
   ]
  },
  {
   "cell_type": "code",
   "execution_count": 7,
   "id": "c4c0237b",
   "metadata": {
    "execution": {
     "iopub.execute_input": "2023-01-30T13:47:28.574014Z",
     "iopub.status.busy": "2023-01-30T13:47:28.573380Z",
     "iopub.status.idle": "2023-01-30T13:47:36.248962Z",
     "shell.execute_reply": "2023-01-30T13:47:36.247725Z"
    },
    "papermill": {
     "duration": 7.684176,
     "end_time": "2023-01-30T13:47:36.251554",
     "exception": false,
     "start_time": "2023-01-30T13:47:28.567378",
     "status": "completed"
    },
    "tags": []
   },
   "outputs": [],
   "source": [
    "df_topic[\"lst_parent\"]=\"NULL\"\n",
    "\n",
    "for i in df_topic.index:\n",
    "    lst=[]\n",
    "    lst=tree(i,lst)\n",
    "    if (len(lst)==0):\n",
    "        df_topic.at[i,\"lst_parent\"]=df_topic.at[i,\"title\"]\n",
    "        print(df_topic.at[i,\"lst_parent\"])\n",
    "    else:\n",
    "        df_topic.at[i,\"lst_parent\"]=lst\n",
    "        \n"
   ]
  },
  {
   "cell_type": "code",
   "execution_count": 8,
   "id": "dcfc00af",
   "metadata": {
    "execution": {
     "iopub.execute_input": "2023-01-30T13:47:36.264638Z",
     "iopub.status.busy": "2023-01-30T13:47:36.264330Z",
     "iopub.status.idle": "2023-01-30T13:47:50.501001Z",
     "shell.execute_reply": "2023-01-30T13:47:50.499744Z"
    },
    "papermill": {
     "duration": 14.246568,
     "end_time": "2023-01-30T13:47:50.503506",
     "exception": false,
     "start_time": "2023-01-30T13:47:36.256938",
     "status": "completed"
    },
    "tags": []
   },
   "outputs": [],
   "source": [
    "tokenizer = transformers.AutoTokenizer.from_pretrained(Config.tokenizer, use_fast=True)\n",
    "model = transformers.AutoModel.from_pretrained(Config.model)"
   ]
  },
  {
   "cell_type": "code",
   "execution_count": 9,
   "id": "e68b9e0c",
   "metadata": {
    "execution": {
     "iopub.execute_input": "2023-01-30T13:47:50.516387Z",
     "iopub.status.busy": "2023-01-30T13:47:50.515402Z",
     "iopub.status.idle": "2023-01-30T13:47:53.813994Z",
     "shell.execute_reply": "2023-01-30T13:47:53.812399Z"
    },
    "papermill": {
     "duration": 3.307938,
     "end_time": "2023-01-30T13:47:53.816922",
     "exception": false,
     "start_time": "2023-01-30T13:47:50.508984",
     "status": "completed"
    },
    "tags": []
   },
   "outputs": [
    {
     "name": "stdout",
     "output_type": "stream",
     "text": [
      "models paramters: 278043648\n",
      "encoder.layer.11.attention.output.LayerNorm.bias True torch.Size([768])\n",
      "encoder.layer.11.intermediate.dense.weight True torch.Size([3072, 768])\n",
      "encoder.layer.11.intermediate.dense.bias True torch.Size([3072])\n",
      "encoder.layer.11.output.dense.weight True torch.Size([768, 3072])\n",
      "encoder.layer.11.output.dense.bias True torch.Size([768])\n",
      "encoder.layer.11.output.LayerNorm.weight True torch.Size([768])\n",
      "encoder.layer.11.output.LayerNorm.bias True torch.Size([768])\n",
      "pooler.dense.weight True torch.Size([768, 768])\n",
      "pooler.dense.bias True torch.Size([768])\n"
     ]
    }
   ],
   "source": [
    "model.to(Config.device)\n",
    "print('models paramters:', sum(p.numel() for p in model.parameters()))\n",
    "params_count = sum(1 for x in model.parameters())\n",
    "for i, (name, param) in enumerate(model.named_parameters()):\n",
    "    if i > params_count - 10:\n",
    "        print(name, param.requires_grad, param.shape)"
   ]
  },
  {
   "cell_type": "code",
   "execution_count": 10,
   "id": "1bc9b91b",
   "metadata": {
    "execution": {
     "iopub.execute_input": "2023-01-30T13:47:53.829138Z",
     "iopub.status.busy": "2023-01-30T13:47:53.828824Z",
     "iopub.status.idle": "2023-01-30T13:47:53.836689Z",
     "shell.execute_reply": "2023-01-30T13:47:53.835631Z"
    },
    "papermill": {
     "duration": 0.015765,
     "end_time": "2023-01-30T13:47:53.838563",
     "exception": false,
     "start_time": "2023-01-30T13:47:53.822798",
     "status": "completed"
    },
    "tags": []
   },
   "outputs": [],
   "source": [
    "def get_embeddings(tokenizer, data:pd.Series):\n",
    "    data = list(data.fillna(''))\n",
    "    gap = 1000\n",
    "    \n",
    "    token_outs = []\n",
    "    # uniform dynamic padding\n",
    "    for i in tqdm(range(0, len(data), gap), desc='tokenization'):\n",
    "        batch_tokens=tokenizer(data[i:i+gap], truncation=True, padding=True, return_tensors='pt')\n",
    "        token_outs.append(batch_tokens)\n",
    "        \n",
    "    outs = []\n",
    "    model.to(Config.device)\n",
    "    model.eval()\n",
    "    \n",
    "    with torch.no_grad():\n",
    "        for batch_tokens in tqdm(token_outs, total=len(token_outs), desc='model output'):\n",
    "            inputs = batch_tokens['input_ids'].to(Config.device)\n",
    "            attention_mask = batch_tokens['attention_mask'].to(Config.device)\n",
    "            out = model(inputs, attention_mask=attention_mask).last_hidden_state.mean(1)\n",
    "            outs.append(out.cpu().numpy())\n",
    "    return np.concatenate(outs)"
   ]
  },
  {
   "cell_type": "code",
   "execution_count": 11,
   "id": "b03cfce6",
   "metadata": {
    "execution": {
     "iopub.execute_input": "2023-01-30T13:47:53.850911Z",
     "iopub.status.busy": "2023-01-30T13:47:53.849395Z",
     "iopub.status.idle": "2023-01-30T13:47:53.978146Z",
     "shell.execute_reply": "2023-01-30T13:47:53.977210Z"
    },
    "papermill": {
     "duration": 0.136919,
     "end_time": "2023-01-30T13:47:53.980614",
     "exception": false,
     "start_time": "2023-01-30T13:47:53.843695",
     "status": "completed"
    },
    "tags": []
   },
   "outputs": [],
   "source": [
    "from fuzzywuzzy import fuzz, process\n",
    "from annoy import AnnoyIndex\n",
    "\n",
    "# max_corpus_size=1100000\n",
    "\n",
    "df_content=df_content.set_index(\"id\")"
   ]
  },
  {
   "cell_type": "code",
   "execution_count": 12,
   "id": "8693294b",
   "metadata": {
    "execution": {
     "iopub.execute_input": "2023-01-30T13:47:53.992132Z",
     "iopub.status.busy": "2023-01-30T13:47:53.991851Z",
     "iopub.status.idle": "2023-01-30T13:47:53.995989Z",
     "shell.execute_reply": "2023-01-30T13:47:53.994942Z"
    },
    "papermill": {
     "duration": 0.012566,
     "end_time": "2023-01-30T13:47:53.998275",
     "exception": false,
     "start_time": "2023-01-30T13:47:53.985709",
     "status": "completed"
    },
    "tags": []
   },
   "outputs": [],
   "source": [
    "# df_content['title'].duplicated().any()"
   ]
  },
  {
   "cell_type": "code",
   "execution_count": 13,
   "id": "ddb5ee5a",
   "metadata": {
    "execution": {
     "iopub.execute_input": "2023-01-30T13:47:54.009216Z",
     "iopub.status.busy": "2023-01-30T13:47:54.008956Z",
     "iopub.status.idle": "2023-01-30T13:47:54.012939Z",
     "shell.execute_reply": "2023-01-30T13:47:54.011933Z"
    },
    "papermill": {
     "duration": 0.012036,
     "end_time": "2023-01-30T13:47:54.015302",
     "exception": false,
     "start_time": "2023-01-30T13:47:54.003266",
     "status": "completed"
    },
    "tags": []
   },
   "outputs": [],
   "source": [
    "# df_content[df_content.duplicated(['title'], keep=False)]"
   ]
  },
  {
   "cell_type": "code",
   "execution_count": 14,
   "id": "d8f474db",
   "metadata": {
    "execution": {
     "iopub.execute_input": "2023-01-30T13:47:54.026257Z",
     "iopub.status.busy": "2023-01-30T13:47:54.025999Z",
     "iopub.status.idle": "2023-01-30T13:47:54.030165Z",
     "shell.execute_reply": "2023-01-30T13:47:54.029171Z"
    },
    "papermill": {
     "duration": 0.011915,
     "end_time": "2023-01-30T13:47:54.032198",
     "exception": false,
     "start_time": "2023-01-30T13:47:54.020283",
     "status": "completed"
    },
    "tags": []
   },
   "outputs": [],
   "source": [
    "n_trees = 128           #Number of trees used for Annoy. More trees => better recall, worse run-time\n",
    "top_k_hits = 400"
   ]
  },
  {
   "cell_type": "code",
   "execution_count": 15,
   "id": "c779a694",
   "metadata": {
    "execution": {
     "iopub.execute_input": "2023-01-30T13:47:54.043694Z",
     "iopub.status.busy": "2023-01-30T13:47:54.042934Z",
     "iopub.status.idle": "2023-01-30T13:47:54.093900Z",
     "shell.execute_reply": "2023-01-30T13:47:54.093056Z"
    },
    "papermill": {
     "duration": 0.058703,
     "end_time": "2023-01-30T13:47:54.095864",
     "exception": false,
     "start_time": "2023-01-30T13:47:54.037161",
     "status": "completed"
    },
    "tags": []
   },
   "outputs": [],
   "source": [
    "def get_embeddings(tokenizer, data:pd.Series):\n",
    "    data = list(data.fillna(''))\n",
    "    gap = 1000\n",
    "    \n",
    "    token_outs = []\n",
    "    # uniform dynamic padding\n",
    "    for i in range(0, len(data), gap):\n",
    "        batch_tokens=tokenizer(data[i:i+gap], truncation=True, padding=True, return_tensors='pt')\n",
    "        token_outs.append(batch_tokens)\n",
    "        \n",
    "    outs = []\n",
    "    model.to(Config.device)\n",
    "    model.eval()\n",
    "    \n",
    "    with torch.no_grad():\n",
    "        for batch_tokens in token_outs:\n",
    "            inputs = batch_tokens['input_ids'].to(Config.device)\n",
    "            attention_mask = batch_tokens['attention_mask'].to(Config.device)\n",
    "            out = model(inputs, attention_mask=attention_mask).last_hidden_state.mean(1)\n",
    "            outs.append(out.cpu().numpy())\n",
    "    return np.concatenate(outs)\n"
   ]
  },
  {
   "cell_type": "code",
   "execution_count": 16,
   "id": "fcbe8dbb",
   "metadata": {
    "execution": {
     "iopub.execute_input": "2023-01-30T13:47:54.108267Z",
     "iopub.status.busy": "2023-01-30T13:47:54.106728Z",
     "iopub.status.idle": "2023-01-30T13:50:55.056015Z",
     "shell.execute_reply": "2023-01-30T13:50:55.054966Z"
    },
    "papermill": {
     "duration": 180.957809,
     "end_time": "2023-01-30T13:50:55.058635",
     "exception": false,
     "start_time": "2023-01-30T13:47:54.100826",
     "status": "completed"
    },
    "tags": []
   },
   "outputs": [],
   "source": [
    "contents_embedding = get_embeddings(tokenizer, df_content.title)\n"
   ]
  },
  {
   "cell_type": "code",
   "execution_count": 17,
   "id": "f4188fe7",
   "metadata": {
    "execution": {
     "iopub.execute_input": "2023-01-30T13:50:55.081408Z",
     "iopub.status.busy": "2023-01-30T13:50:55.081090Z",
     "iopub.status.idle": "2023-01-30T13:52:11.051623Z",
     "shell.execute_reply": "2023-01-30T13:52:11.050614Z"
    },
    "papermill": {
     "duration": 75.995002,
     "end_time": "2023-01-30T13:52:11.059157",
     "exception": false,
     "start_time": "2023-01-30T13:50:55.064155",
     "status": "completed"
    },
    "tags": []
   },
   "outputs": [
    {
     "data": {
      "application/vnd.jupyter.widget-view+json": {
       "model_id": "200dd2fde1854f4d83385b8020251513",
       "version_major": 2,
       "version_minor": 0
      },
      "text/plain": [
       "  0%|          | 0/154047 [00:00<?, ?it/s]"
      ]
     },
     "metadata": {},
     "output_type": "display_data"
    },
    {
     "data": {
      "text/plain": [
       "True"
      ]
     },
     "execution_count": 17,
     "metadata": {},
     "output_type": "execute_result"
    }
   ],
   "source": [
    "# for i in range(len(contents_embedding)):\n",
    "#         annoy_index.add_item(i, contents_embedding[i])\n",
    "\n",
    "# annoy_index.build(n_trees)\n",
    "from annoy import AnnoyIndex\n",
    "annoy_index = AnnoyIndex(contents_embedding.shape[1], metric='angular')\n",
    "for i, item in tqdm(enumerate(contents_embedding), total=len(contents_embedding)):\n",
    "    annoy_index.add_item(i, item)\n",
    "annoy_index.build(n_trees)"
   ]
  },
  {
   "cell_type": "code",
   "execution_count": 18,
   "id": "bb8bfcda",
   "metadata": {
    "execution": {
     "iopub.execute_input": "2023-01-30T13:52:11.071519Z",
     "iopub.status.busy": "2023-01-30T13:52:11.070697Z",
     "iopub.status.idle": "2023-01-30T13:52:11.078003Z",
     "shell.execute_reply": "2023-01-30T13:52:11.077146Z"
    },
    "papermill": {
     "duration": 0.015415,
     "end_time": "2023-01-30T13:52:11.079962",
     "exception": false,
     "start_time": "2023-01-30T13:52:11.064547",
     "status": "completed"
    },
    "tags": []
   },
   "outputs": [],
   "source": [
    "df_content.reset_index(level =['id'], inplace = True)"
   ]
  },
  {
   "cell_type": "code",
   "execution_count": 19,
   "id": "d6ed5ece",
   "metadata": {
    "execution": {
     "iopub.execute_input": "2023-01-30T13:52:11.092895Z",
     "iopub.status.busy": "2023-01-30T13:52:11.091281Z",
     "iopub.status.idle": "2023-01-30T13:52:11.103238Z",
     "shell.execute_reply": "2023-01-30T13:52:11.102269Z"
    },
    "papermill": {
     "duration": 0.020022,
     "end_time": "2023-01-30T13:52:11.105231",
     "exception": false,
     "start_time": "2023-01-30T13:52:11.085209",
     "status": "completed"
    },
    "tags": []
   },
   "outputs": [
    {
     "data": {
      "text/plain": [
       "'c_35515f242f70'"
      ]
     },
     "execution_count": 19,
     "metadata": {},
     "output_type": "execute_result"
    }
   ],
   "source": [
    "df_content.at[32137, 'id']"
   ]
  },
  {
   "cell_type": "code",
   "execution_count": 20,
   "id": "a7138aa7",
   "metadata": {
    "execution": {
     "iopub.execute_input": "2023-01-30T13:52:11.117536Z",
     "iopub.status.busy": "2023-01-30T13:52:11.116674Z",
     "iopub.status.idle": "2023-01-30T13:52:11.121875Z",
     "shell.execute_reply": "2023-01-30T13:52:11.121060Z"
    },
    "papermill": {
     "duration": 0.013162,
     "end_time": "2023-01-30T13:52:11.123760",
     "exception": false,
     "start_time": "2023-01-30T13:52:11.110598",
     "status": "completed"
    },
    "tags": []
   },
   "outputs": [],
   "source": [
    "# data1=[]\n",
    "\n",
    "# nearest_content_count=400\n",
    "# for i in df_sample.topic_id:\n",
    "#     print(i)\n",
    "#     lst1=df_topic.at[i,\"lst_parent\"]\n",
    "#     j=(len(lst1)-1)\n",
    "#     l=10\n",
    "#     data=[]\n",
    "#     while j>=0 and l>0:\n",
    "#         emb1=pd.Series(lst1[j])\n",
    "#         emb=get_embeddings(tokenizer,emb1)\n",
    "#         res=[]\n",
    "#         data2=[]\n",
    "\n",
    "#         for i, t_e in (enumerate(emb)):\n",
    "#             res =annoy_index.get_nns_by_vector(t_e,nearest_content_count)\n",
    "#         #res=annoy_index.get_nns_by_vector(emb,top_k_hits,include_distances=False)\n",
    "#         iter=res[:8]\n",
    "#         for it in iter:\n",
    "#             data2.append(df_content.at[it,\"id\"])\n",
    "#         c=df_topic[df_topic.title==lst1[j]].index\n",
    "#         for k in res:\n",
    "\n",
    "#             if(df_topic.at[c[0],\"language\"]==df_content.at[k,\"language\"]):\n",
    "\n",
    "#                 fuzzy_value = fuzz.token_set_ratio(df_topic.at[c[0],\"title\"],df_content.at[k,\"title\"])\n",
    "#                 if fuzzy_value>70:\n",
    "#                     data.append(df_content.at[k,\"id\"])\n",
    "#                     l-=1\n",
    "#             if(l==0):\n",
    "#                 break\n",
    "        \n",
    "#         j-=1\n",
    "#     if(len(data)==0):\n",
    "#         data1.append(' '.join(data2))\n",
    "#     else:\n",
    "#         data1.append(' '.join(data))\n",
    "    "
   ]
  },
  {
   "cell_type": "code",
   "execution_count": 21,
   "id": "8641640e",
   "metadata": {
    "execution": {
     "iopub.execute_input": "2023-01-30T13:52:11.136400Z",
     "iopub.status.busy": "2023-01-30T13:52:11.135530Z",
     "iopub.status.idle": "2023-01-30T13:52:11.637803Z",
     "shell.execute_reply": "2023-01-30T13:52:11.636641Z"
    },
    "papermill": {
     "duration": 0.511058,
     "end_time": "2023-01-30T13:52:11.640274",
     "exception": false,
     "start_time": "2023-01-30T13:52:11.129216",
     "status": "completed"
    },
    "tags": []
   },
   "outputs": [],
   "source": [
    "data1=[]\n",
    "\n",
    "nearest_content_count=400\n",
    "for i in df_sample.topic_id:\n",
    "    lst1=df_topic.at[i,\"lst_parent\"]\n",
    "    j=(len(lst1)-1)\n",
    "    l=10\n",
    "    data=[]\n",
    "    while j>=0 and l>0:\n",
    "        emb1=pd.Series(lst1[j])\n",
    "        emb=get_embeddings(tokenizer,emb1)\n",
    "        res=[]\n",
    "        data2=[]\n",
    "\n",
    "        for i, t_e in (enumerate(emb)):\n",
    "            res =annoy_index.get_nns_by_vector(t_e,nearest_content_count)\n",
    "        #res=annoy_index.get_nns_by_vector(emb,top_k_hits,include_distances=False)\n",
    "        iter=res[:8]\n",
    "        for it in iter:\n",
    "            data2.append(df_content.at[it,\"id\"])\n",
    "        if len(df_topic[df_topic.title==lst1[j]].index)>0:\n",
    "            c=df_topic[df_topic.title==lst1[j]].index\n",
    "        \n",
    "            for k in res:\n",
    "\n",
    "                if(df_topic.at[c[0],\"language\"]==df_content.at[k,\"language\"]):\n",
    "\n",
    "                    fuzzy_value = fuzz.token_set_ratio(df_topic.at[c[0],\"title\"],df_content.at[k,\"title\"])\n",
    "                    if fuzzy_value>70:\n",
    "                        data.append(df_content.at[k,\"id\"])\n",
    "                        l-=1\n",
    "                if(l==0):\n",
    "                    break\n",
    "        \n",
    "        j-=1\n",
    "    if(len(data)==0):\n",
    "        data1.append(' '.join(data2))\n",
    "    else:\n",
    "        data1.append(' '.join(data))\n",
    "    "
   ]
  },
  {
   "cell_type": "code",
   "execution_count": 22,
   "id": "9951a4af",
   "metadata": {
    "execution": {
     "iopub.execute_input": "2023-01-30T13:52:11.652709Z",
     "iopub.status.busy": "2023-01-30T13:52:11.652380Z",
     "iopub.status.idle": "2023-01-30T13:52:11.657389Z",
     "shell.execute_reply": "2023-01-30T13:52:11.656378Z"
    },
    "papermill": {
     "duration": 0.013414,
     "end_time": "2023-01-30T13:52:11.659391",
     "exception": false,
     "start_time": "2023-01-30T13:52:11.645977",
     "status": "completed"
    },
    "tags": []
   },
   "outputs": [],
   "source": [
    "dataa={'topic_id':df_sample.topic_id,\n",
    "       'content_ids':data1\n",
    "    \n",
    "}\n",
    "df = pd.DataFrame(dataa)"
   ]
  },
  {
   "cell_type": "code",
   "execution_count": 23,
   "id": "5fec252c",
   "metadata": {
    "execution": {
     "iopub.execute_input": "2023-01-30T13:52:11.671394Z",
     "iopub.status.busy": "2023-01-30T13:52:11.671123Z",
     "iopub.status.idle": "2023-01-30T13:52:11.678967Z",
     "shell.execute_reply": "2023-01-30T13:52:11.678100Z"
    },
    "papermill": {
     "duration": 0.016025,
     "end_time": "2023-01-30T13:52:11.680892",
     "exception": false,
     "start_time": "2023-01-30T13:52:11.664867",
     "status": "completed"
    },
    "tags": []
   },
   "outputs": [],
   "source": [
    "df.to_csv(\"submission.csv\",index=False)"
   ]
  },
  {
   "cell_type": "code",
   "execution_count": null,
   "id": "f19081cc",
   "metadata": {
    "papermill": {
     "duration": 0.005144,
     "end_time": "2023-01-30T13:52:11.691559",
     "exception": false,
     "start_time": "2023-01-30T13:52:11.686415",
     "status": "completed"
    },
    "tags": []
   },
   "outputs": [],
   "source": []
  }
 ],
 "metadata": {
  "kernelspec": {
   "display_name": "Python 3",
   "language": "python",
   "name": "python3"
  },
  "language_info": {
   "codemirror_mode": {
    "name": "ipython",
    "version": 3
   },
   "file_extension": ".py",
   "mimetype": "text/x-python",
   "name": "python",
   "nbconvert_exporter": "python",
   "pygments_lexer": "ipython3",
   "version": "3.7.12"
  },
  "papermill": {
   "default_parameters": {},
   "duration": 316.015307,
   "end_time": "2023-01-30T13:52:13.722767",
   "environment_variables": {},
   "exception": null,
   "input_path": "__notebook__.ipynb",
   "output_path": "__notebook__.ipynb",
   "parameters": {},
   "start_time": "2023-01-30T13:46:57.707460",
   "version": "2.3.4"
  },
  "widgets": {
   "application/vnd.jupyter.widget-state+json": {
    "state": {
     "0ce27640624144b8851a08524c7313a5": {
      "model_module": "@jupyter-widgets/base",
      "model_module_version": "1.2.0",
      "model_name": "LayoutModel",
      "state": {
       "_model_module": "@jupyter-widgets/base",
       "_model_module_version": "1.2.0",
       "_model_name": "LayoutModel",
       "_view_count": null,
       "_view_module": "@jupyter-widgets/base",
       "_view_module_version": "1.2.0",
       "_view_name": "LayoutView",
       "align_content": null,
       "align_items": null,
       "align_self": null,
       "border": null,
       "bottom": null,
       "display": null,
       "flex": null,
       "flex_flow": null,
       "grid_area": null,
       "grid_auto_columns": null,
       "grid_auto_flow": null,
       "grid_auto_rows": null,
       "grid_column": null,
       "grid_gap": null,
       "grid_row": null,
       "grid_template_areas": null,
       "grid_template_columns": null,
       "grid_template_rows": null,
       "height": null,
       "justify_content": null,
       "justify_items": null,
       "left": null,
       "margin": null,
       "max_height": null,
       "max_width": null,
       "min_height": null,
       "min_width": null,
       "object_fit": null,
       "object_position": null,
       "order": null,
       "overflow": null,
       "overflow_x": null,
       "overflow_y": null,
       "padding": null,
       "right": null,
       "top": null,
       "visibility": null,
       "width": null
      }
     },
     "200dd2fde1854f4d83385b8020251513": {
      "model_module": "@jupyter-widgets/controls",
      "model_module_version": "1.5.0",
      "model_name": "HBoxModel",
      "state": {
       "_dom_classes": [],
       "_model_module": "@jupyter-widgets/controls",
       "_model_module_version": "1.5.0",
       "_model_name": "HBoxModel",
       "_view_count": null,
       "_view_module": "@jupyter-widgets/controls",
       "_view_module_version": "1.5.0",
       "_view_name": "HBoxView",
       "box_style": "",
       "children": [
        "IPY_MODEL_67832621cfe944a0aff7c089370957ee",
        "IPY_MODEL_e9319bc24cfe4754acdbe702c5cd7f50",
        "IPY_MODEL_6fe4c7bbfc2d457a94f48b7a94c39184"
       ],
       "layout": "IPY_MODEL_f85498a7295b4648a7a36f22c53f3cbe"
      }
     },
     "3e34eae096214848b27d7cc894c9c4d4": {
      "model_module": "@jupyter-widgets/controls",
      "model_module_version": "1.5.0",
      "model_name": "ProgressStyleModel",
      "state": {
       "_model_module": "@jupyter-widgets/controls",
       "_model_module_version": "1.5.0",
       "_model_name": "ProgressStyleModel",
       "_view_count": null,
       "_view_module": "@jupyter-widgets/base",
       "_view_module_version": "1.2.0",
       "_view_name": "StyleView",
       "bar_color": null,
       "description_width": ""
      }
     },
     "67832621cfe944a0aff7c089370957ee": {
      "model_module": "@jupyter-widgets/controls",
      "model_module_version": "1.5.0",
      "model_name": "HTMLModel",
      "state": {
       "_dom_classes": [],
       "_model_module": "@jupyter-widgets/controls",
       "_model_module_version": "1.5.0",
       "_model_name": "HTMLModel",
       "_view_count": null,
       "_view_module": "@jupyter-widgets/controls",
       "_view_module_version": "1.5.0",
       "_view_name": "HTMLView",
       "description": "",
       "description_tooltip": null,
       "layout": "IPY_MODEL_69a9f4a9827442aaaa05d5de998c98ce",
       "placeholder": "​",
       "style": "IPY_MODEL_6d6f5f57d6a24d558b9fc7631b5c5250",
       "value": "100%"
      }
     },
     "69a9f4a9827442aaaa05d5de998c98ce": {
      "model_module": "@jupyter-widgets/base",
      "model_module_version": "1.2.0",
      "model_name": "LayoutModel",
      "state": {
       "_model_module": "@jupyter-widgets/base",
       "_model_module_version": "1.2.0",
       "_model_name": "LayoutModel",
       "_view_count": null,
       "_view_module": "@jupyter-widgets/base",
       "_view_module_version": "1.2.0",
       "_view_name": "LayoutView",
       "align_content": null,
       "align_items": null,
       "align_self": null,
       "border": null,
       "bottom": null,
       "display": null,
       "flex": null,
       "flex_flow": null,
       "grid_area": null,
       "grid_auto_columns": null,
       "grid_auto_flow": null,
       "grid_auto_rows": null,
       "grid_column": null,
       "grid_gap": null,
       "grid_row": null,
       "grid_template_areas": null,
       "grid_template_columns": null,
       "grid_template_rows": null,
       "height": null,
       "justify_content": null,
       "justify_items": null,
       "left": null,
       "margin": null,
       "max_height": null,
       "max_width": null,
       "min_height": null,
       "min_width": null,
       "object_fit": null,
       "object_position": null,
       "order": null,
       "overflow": null,
       "overflow_x": null,
       "overflow_y": null,
       "padding": null,
       "right": null,
       "top": null,
       "visibility": null,
       "width": null
      }
     },
     "6d6f5f57d6a24d558b9fc7631b5c5250": {
      "model_module": "@jupyter-widgets/controls",
      "model_module_version": "1.5.0",
      "model_name": "DescriptionStyleModel",
      "state": {
       "_model_module": "@jupyter-widgets/controls",
       "_model_module_version": "1.5.0",
       "_model_name": "DescriptionStyleModel",
       "_view_count": null,
       "_view_module": "@jupyter-widgets/base",
       "_view_module_version": "1.2.0",
       "_view_name": "StyleView",
       "description_width": ""
      }
     },
     "6fe4c7bbfc2d457a94f48b7a94c39184": {
      "model_module": "@jupyter-widgets/controls",
      "model_module_version": "1.5.0",
      "model_name": "HTMLModel",
      "state": {
       "_dom_classes": [],
       "_model_module": "@jupyter-widgets/controls",
       "_model_module_version": "1.5.0",
       "_model_name": "HTMLModel",
       "_view_count": null,
       "_view_module": "@jupyter-widgets/controls",
       "_view_module_version": "1.5.0",
       "_view_name": "HTMLView",
       "description": "",
       "description_tooltip": null,
       "layout": "IPY_MODEL_0ce27640624144b8851a08524c7313a5",
       "placeholder": "​",
       "style": "IPY_MODEL_a4fbaafb6bbc473f916ce16fd63f0dab",
       "value": " 154047/154047 [00:10&lt;00:00, 15624.14it/s]"
      }
     },
     "90f804e8e34b40f3b6ff517606b129f6": {
      "model_module": "@jupyter-widgets/base",
      "model_module_version": "1.2.0",
      "model_name": "LayoutModel",
      "state": {
       "_model_module": "@jupyter-widgets/base",
       "_model_module_version": "1.2.0",
       "_model_name": "LayoutModel",
       "_view_count": null,
       "_view_module": "@jupyter-widgets/base",
       "_view_module_version": "1.2.0",
       "_view_name": "LayoutView",
       "align_content": null,
       "align_items": null,
       "align_self": null,
       "border": null,
       "bottom": null,
       "display": null,
       "flex": null,
       "flex_flow": null,
       "grid_area": null,
       "grid_auto_columns": null,
       "grid_auto_flow": null,
       "grid_auto_rows": null,
       "grid_column": null,
       "grid_gap": null,
       "grid_row": null,
       "grid_template_areas": null,
       "grid_template_columns": null,
       "grid_template_rows": null,
       "height": null,
       "justify_content": null,
       "justify_items": null,
       "left": null,
       "margin": null,
       "max_height": null,
       "max_width": null,
       "min_height": null,
       "min_width": null,
       "object_fit": null,
       "object_position": null,
       "order": null,
       "overflow": null,
       "overflow_x": null,
       "overflow_y": null,
       "padding": null,
       "right": null,
       "top": null,
       "visibility": null,
       "width": null
      }
     },
     "a4fbaafb6bbc473f916ce16fd63f0dab": {
      "model_module": "@jupyter-widgets/controls",
      "model_module_version": "1.5.0",
      "model_name": "DescriptionStyleModel",
      "state": {
       "_model_module": "@jupyter-widgets/controls",
       "_model_module_version": "1.5.0",
       "_model_name": "DescriptionStyleModel",
       "_view_count": null,
       "_view_module": "@jupyter-widgets/base",
       "_view_module_version": "1.2.0",
       "_view_name": "StyleView",
       "description_width": ""
      }
     },
     "e9319bc24cfe4754acdbe702c5cd7f50": {
      "model_module": "@jupyter-widgets/controls",
      "model_module_version": "1.5.0",
      "model_name": "FloatProgressModel",
      "state": {
       "_dom_classes": [],
       "_model_module": "@jupyter-widgets/controls",
       "_model_module_version": "1.5.0",
       "_model_name": "FloatProgressModel",
       "_view_count": null,
       "_view_module": "@jupyter-widgets/controls",
       "_view_module_version": "1.5.0",
       "_view_name": "ProgressView",
       "bar_style": "success",
       "description": "",
       "description_tooltip": null,
       "layout": "IPY_MODEL_90f804e8e34b40f3b6ff517606b129f6",
       "max": 154047.0,
       "min": 0.0,
       "orientation": "horizontal",
       "style": "IPY_MODEL_3e34eae096214848b27d7cc894c9c4d4",
       "value": 154047.0
      }
     },
     "f85498a7295b4648a7a36f22c53f3cbe": {
      "model_module": "@jupyter-widgets/base",
      "model_module_version": "1.2.0",
      "model_name": "LayoutModel",
      "state": {
       "_model_module": "@jupyter-widgets/base",
       "_model_module_version": "1.2.0",
       "_model_name": "LayoutModel",
       "_view_count": null,
       "_view_module": "@jupyter-widgets/base",
       "_view_module_version": "1.2.0",
       "_view_name": "LayoutView",
       "align_content": null,
       "align_items": null,
       "align_self": null,
       "border": null,
       "bottom": null,
       "display": null,
       "flex": null,
       "flex_flow": null,
       "grid_area": null,
       "grid_auto_columns": null,
       "grid_auto_flow": null,
       "grid_auto_rows": null,
       "grid_column": null,
       "grid_gap": null,
       "grid_row": null,
       "grid_template_areas": null,
       "grid_template_columns": null,
       "grid_template_rows": null,
       "height": null,
       "justify_content": null,
       "justify_items": null,
       "left": null,
       "margin": null,
       "max_height": null,
       "max_width": null,
       "min_height": null,
       "min_width": null,
       "object_fit": null,
       "object_position": null,
       "order": null,
       "overflow": null,
       "overflow_x": null,
       "overflow_y": null,
       "padding": null,
       "right": null,
       "top": null,
       "visibility": null,
       "width": null
      }
     }
    },
    "version_major": 2,
    "version_minor": 0
   }
  }
 },
 "nbformat": 4,
 "nbformat_minor": 5
}
